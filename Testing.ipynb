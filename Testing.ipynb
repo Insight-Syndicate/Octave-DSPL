{
  "nbformat": 4,
  "nbformat_minor": 0,
  "metadata": {
    "colab": {
      "provenance": []
    },
    "kernelspec": {
      "name": "python3",
      "display_name": "Python 3"
    },
    "language_info": {
      "name": "python"
    }
  },
  "cells": [
    {
      "cell_type": "code",
      "execution_count": null,
      "metadata": {
        "id": "4u17LqsEPCM6"
      },
      "outputs": [],
      "source": [
        "# Testing"
      ]
    },
    {
      "cell_type": "code",
      "source": [
        "print('Test - Check')"
      ],
      "metadata": {
        "id": "uC9-BHNCPHPa",
        "outputId": "89f0bcfe-f989-46f2-ffd7-b10ad10822f4",
        "colab": {
          "base_uri": "https://localhost:8080/"
        }
      },
      "execution_count": 1,
      "outputs": [
        {
          "output_type": "stream",
          "name": "stdout",
          "text": [
            "Test - Check\n"
          ]
        }
      ]
    },
    {
      "cell_type": "code",
      "source": [],
      "metadata": {
        "id": "PTVfGX9HPicU"
      },
      "execution_count": null,
      "outputs": []
    }
  ]
}